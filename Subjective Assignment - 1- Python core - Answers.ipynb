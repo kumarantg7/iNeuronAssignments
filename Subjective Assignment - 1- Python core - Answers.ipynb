{
 "cells": [
  {
   "cell_type": "markdown",
   "metadata": {},
   "source": [
    "Q1. Write a Python program to get the string from the given string where\n",
    "all the occurrence of its first char has been changed to '$,' except first\n",
    "char itself?\n",
    "\n",
    "    Sample String: 'prospect'\n",
    "    Expected Result : 'pros$ect'\n"
   ]
  },
  {
   "cell_type": "code",
   "execution_count": 17,
   "metadata": {},
   "outputs": [
    {
     "name": "stdout",
     "output_type": "stream",
     "text": [
      "Enter the input string: papaya and pani puri\n",
      "The output string is  pa$aya and $ani $uri\n"
     ]
    }
   ],
   "source": [
    "#Get the input String\n",
    "input_string = input(\"Enter the input string: \")\n",
    "#Logic\n",
    "output_string = input_string[0] + input_string[1:].replace(input_string[0],\"$\")\n",
    "#print Output\n",
    "print(\"The output string is \", output_string)"
   ]
  },
  {
   "cell_type": "markdown",
   "metadata": {},
   "source": [
    "Q2. Write a Python program to get the single string from the two given\n",
    "strings, and separated by the space and swap the first two characters of\n",
    "each string?\n",
    "\n",
    "    Sample String : 'abc', 'xyz'.\n",
    "    Expected Result: 'xyc abz'"
   ]
  },
  {
   "cell_type": "code",
   "execution_count": 26,
   "metadata": {},
   "outputs": [
    {
     "name": "stdout",
     "output_type": "stream",
     "text": [
      "Enter the input string 1: New\n",
      "Enter the input string 2: Delhi\n",
      "The output string is : Dew Nelhi\n"
     ]
    }
   ],
   "source": [
    "\n",
    "#Get the input String\n",
    "input_string_1 = input(\"Enter the input string 1: \")\n",
    "input_string_2 = input(\"Enter the input string 2: \")\n",
    "#Logic\n",
    "output_string_1 = input_string_2[0:2] + input_string_1[2:]\n",
    "output_string_2 = input_string_1[0:2] + input_string_2[2:]\n",
    "#print Output\n",
    "print(\"The output string is :\", output_string_1, output_string_2)"
   ]
  },
  {
   "cell_type": "markdown",
   "metadata": {},
   "source": [
    "Q3. Write the Python program to add 'ing' at the end of the given string\n",
    "(length of the string should be at least 3). If given string already ends\n",
    "with 'ing,' then add 'ly' instead. If string length of the given string is less\n",
    "than 3, leave it unchanged?\n",
    "\n",
    "\n",
    "    Sample string: ' abc '\n",
    "    Expected result: ' abcing '\n",
    "    Sample string: ' string '\n",
    "    Expected result: ' stringly '\n"
   ]
  },
  {
   "cell_type": "code",
   "execution_count": 35,
   "metadata": {},
   "outputs": [
    {
     "name": "stdout",
     "output_type": "stream",
     "text": [
      "Enter the Input String: poor\n",
      "The output word is :  pooring\n"
     ]
    }
   ],
   "source": [
    "#Get the input String\n",
    "input_string = input(\"Enter the Input String: \")\n",
    "#Logic\n",
    "if len(input_string) >= 3:\n",
    "    if input_string[-3:] == \"ing\":\n",
    "        output_string = input_string + \"ly\"\n",
    "    else:\n",
    "        output_string = input_string + \"ing\"\n",
    "    print(\"The output word is : \" , output_string)\n",
    "else:\n",
    "    print(\"Length of the string is less than or equal to 3\")"
   ]
  },
  {
   "cell_type": "markdown",
   "metadata": {},
   "source": [
    "Q4. Write the Python program to find the first appearance of the\n",
    "substring 'not' and 'poor' from the given string, if 'not' follows the 'poor',\n",
    "replace the whole 'not'...' poor' substring with 'good'.Return the resulting\n",
    "string.\n",
    "\n",
    "    Sample string: 'The lyrics are not that poor!'\n",
    "    'The lyrics are poor!'\n",
    "    Expected Result: 'The lyrics are good!'\n",
    "    'The lyrics are poor!'"
   ]
  },
  {
   "cell_type": "code",
   "execution_count": 70,
   "metadata": {},
   "outputs": [
    {
     "name": "stdout",
     "output_type": "stream",
     "text": [
      "Enter the input string: The lyrics are not that poor!\n",
      "Output String is:  The lyrics are good!\n"
     ]
    }
   ],
   "source": [
    "input_string = input(\"Enter the input string: \")\n",
    "not_index = input_string.find(\"not\")\n",
    "poor_index = input_string.find(\"poor\")\n",
    "if poor_index > not_index and poor_index != -1 and not_index != -1:\n",
    "    print(\"Output String is: \" , input_string[:15] + \"good\" + input_string[poor_index+4:])\n",
    "else:\n",
    "    print(\"Output String is: \" , input_string)"
   ]
  },
  {
   "cell_type": "markdown",
   "metadata": {},
   "source": [
    "Q5. Write the Python program to remove the characters which have odd\n",
    "index values of a given string."
   ]
  },
  {
   "cell_type": "code",
   "execution_count": 71,
   "metadata": {},
   "outputs": [
    {
     "name": "stdout",
     "output_type": "stream",
     "text": [
      "Enter the input string: position\n",
      "Output string is:  psto\n"
     ]
    }
   ],
   "source": [
    "input_string = input(\"Enter the input string: \")\n",
    "output_string = input_string[::2]\n",
    "print(\"Output string is: \", output_string)"
   ]
  },
  {
   "cell_type": "markdown",
   "metadata": {},
   "source": [
    "Q6. Write the python program to print the following floating numbers up\n",
    "to 2 decimal places?"
   ]
  },
  {
   "cell_type": "code",
   "execution_count": 79,
   "metadata": {},
   "outputs": [
    {
     "name": "stdout",
     "output_type": "stream",
     "text": [
      "Enter the number: 48.456\n",
      "The number rounded off to 2 places is :  48.46\n"
     ]
    }
   ],
   "source": [
    "try:\n",
    "    input_number = float(input(\"Enter the number: \"))\n",
    "except:\n",
    "    print(\"Please enter a number\")\n",
    "else:\n",
    "    output_number = round(input_number, 2)\n",
    "    print(\"The number rounded off to 2 places is : \", output_number)"
   ]
  },
  {
   "cell_type": "markdown",
   "metadata": {},
   "source": [
    "Q7. Write the Python program to format a number with a percentage?"
   ]
  },
  {
   "cell_type": "code",
   "execution_count": 152,
   "metadata": {},
   "outputs": [
    {
     "name": "stdout",
     "output_type": "stream",
     "text": [
      "Enter the number to be presented as percentage: .4547\n",
      "The number rounded off to 2 places is :  45.47%\n"
     ]
    }
   ],
   "source": [
    "#To format a number with percentage using format() method upto 2 decimal places\n",
    "try:\n",
    "    input_number = float(input(\"Enter the number to be presented as percentage: \"))\n",
    "except:\n",
    "    print(\"Please enter a number\")\n",
    "else:\n",
    "    output_number = '{:.2%}'.format(input_number)\n",
    "    print(\"The number rounded off to 2 places is : \", output_number)"
   ]
  },
  {
   "cell_type": "markdown",
   "metadata": {},
   "source": [
    "Q8. Write the Python program to count occurrences of a substring in a\n",
    "String?"
   ]
  },
  {
   "cell_type": "code",
   "execution_count": 90,
   "metadata": {},
   "outputs": [
    {
     "name": "stdout",
     "output_type": "stream",
     "text": [
      "Enter the input string: Write the Python program to add 'ing' at the end of the given string (length of the string should be at least 3). If given string already ends with 'ing,' then add 'ly' instead. If string length of the given string is less than 3, leave it unchanged\n",
      "Enter the substring for which no. of occurences needs to be found: string\n",
      "The number of occurences of the substring is :  5\n"
     ]
    }
   ],
   "source": [
    "input_string = input(\"Enter the input string: \")\n",
    "sub_string = input(\"Enter the substring for which no. of occurences needs to be found: \")\n",
    "count = input_string.count(sub_string)\n",
    "print(\"The number of occurences of the substring is : \", count)"
   ]
  },
  {
   "cell_type": "markdown",
   "metadata": {},
   "source": [
    "Q9. Write the Python program to count repeated characters in a string.\n",
    "\n",
    "    Sample string: ' thequickbrownjumpsoverthelazydog '\n",
    "    \n",
    "    Expected output:\n",
    "    o 3\n",
    "    e 3\n",
    "    u 2\n",
    "    h 2\n",
    "    r 2\n",
    "    t 2"
   ]
  },
  {
   "cell_type": "code",
   "execution_count": 96,
   "metadata": {},
   "outputs": [
    {
     "name": "stdout",
     "output_type": "stream",
     "text": [
      "Enter the input string:  thequickbrownjumpsoverthelazydog \n",
      "i 1\n",
      "k 1\n",
      "t 2\n",
      "g 1\n",
      "s 1\n",
      "j 1\n",
      "r 2\n",
      "d 1\n",
      "n 1\n",
      "p 1\n",
      "u 2\n",
      "a 1\n",
      "z 1\n",
      "m 1\n",
      "q 1\n",
      "c 1\n",
      "h 2\n",
      "w 1\n",
      "v 1\n",
      "e 3\n",
      "y 1\n",
      "b 1\n",
      "l 1\n",
      "o 3\n"
     ]
    }
   ],
   "source": [
    "#Get the input string\n",
    "input_string = input(\"Enter the input string: \")\n",
    "#Find the unique characters using set fn\n",
    "unique_characters = set(input_String)\n",
    "#Printing count of occurences of each unique character using for loop\n",
    "for alpha in unique_characters:\n",
    "    count = input_String.count(alpha)\n",
    "    print(alpha, count)"
   ]
  },
  {
   "cell_type": "markdown",
   "metadata": {},
   "source": [
    "Q10. Write the Python program to print the square and cube symbol in\n",
    "the area of a rectangle and volume of a cylinder?\n",
    "\n",
    "    Sample outputThe area of the rectangle is 1256.66cm2\n",
    "    The volume of the cylinder is 1254.725cm3\n"
   ]
  },
  {
   "cell_type": "code",
   "execution_count": 98,
   "metadata": {},
   "outputs": [
    {
     "name": "stdout",
     "output_type": "stream",
     "text": [
      "Enter the number to be area: 45\n",
      "Enter the number to be volume: 78\n",
      "The given area is 45.0 cm² and the given volume is 78.0 cm³\n"
     ]
    }
   ],
   "source": [
    "input_area = float(input(\"Enter the number to be area: \"))\n",
    "input_volume = float(input(\"Enter the number to be volume: \"))\n",
    "print(\"The given area is {} cm\\u00b2 and the given volume is {} cm\\u00b3\".format(input_area, input_volume))"
   ]
  },
  {
   "cell_type": "markdown",
   "metadata": {},
   "source": [
    "Q11. Write the Python program to check if a string contains all letters of\n",
    "the alphabet?"
   ]
  },
  {
   "cell_type": "code",
   "execution_count": 102,
   "metadata": {},
   "outputs": [
    {
     "name": "stdout",
     "output_type": "stream",
     "text": [
      "Enter the input string: thequickbrownjumpsoverthelazydog\n",
      " :( The given string doesn't contain all characters of the alphabet\n"
     ]
    }
   ],
   "source": [
    "#Below variable holds all charactes of alphabet\n",
    "all_alphabets = 'abcdefghijklmnopqrstuvwxyz'\n",
    "#Give the variable\n",
    "input_string = input(\"Enter the input string: \")\n",
    "\n",
    "test = True\n",
    "\n",
    "#Testing using for loop and store the result in test variable\n",
    "for char in all_alphabets:\n",
    "    if char not in input_string:\n",
    "        test = False\n",
    "        break\n",
    "\n",
    "#printing the result\n",
    "if test == False:\n",
    "    print(\" :( The given string doesn't contain all characters of the alphabet\")\n",
    "else:\n",
    "    print(\" :) The given string contains all characters of the alphabet\")"
   ]
  },
  {
   "cell_type": "markdown",
   "metadata": {},
   "source": [
    "Q12. Write the Python program to find the second most repeated word\n",
    "in a given string?"
   ]
  },
  {
   "cell_type": "code",
   "execution_count": 144,
   "metadata": {},
   "outputs": [
    {
     "name": "stdout",
     "output_type": "stream",
     "text": [
      "Enter the input string: The given string doesn't all contain all string all characters string of string the alphabet The\n",
      "The second most repeated word from the given string is :  all\n"
     ]
    }
   ],
   "source": [
    "from collections import Counter\n",
    "\n",
    "#Give the variable\n",
    "input_string = input(\"Enter the input string: \")\n",
    "\n",
    "#Convert string to Dict using Counter\n",
    "string_dict = Counter(input_string.split())\n",
    "\n",
    "#Getting the values alone in a list\n",
    "sorted_values_list = list(string_dict.values())\n",
    "sorted_values_list.sort(reverse=True)\n",
    "\n",
    "#Find the count of repetion of second most occuring word\n",
    "second_repeated_count = sorted_values_list[1]\n",
    "\n",
    "#Find the word associated with the second_repeated_count\n",
    "for key in string_dict:\n",
    "    if string_dict[key] == second_repeated_count:\n",
    "        second_repeated_word = key\n",
    "        break\n",
    "\n",
    "#Printing the result\n",
    "print(\"The second most repeated word from the given string is : \", second_repeated_word)\n"
   ]
  },
  {
   "cell_type": "markdown",
   "metadata": {},
   "source": [
    "Q13. Write the Python program to find the minimum window in the given\n",
    "string, which will contains all the characters of another given\n",
    "strings?\n",
    "\n",
    "    Example 1\n",
    "    Input : string1 = \" PRWSOERIUSFK \"\n",
    "    string2 = \" OSU \"\n",
    "    Output: Minimum window is \"OERIUS\""
   ]
  },
  {
   "cell_type": "code",
   "execution_count": 213,
   "metadata": {},
   "outputs": [
    {
     "name": "stdout",
     "output_type": "stream",
     "text": [
      "Enter the string 1: PRWSOERIUSFK\n",
      "Enter the string 1: OSU\n",
      "Minimum window:  OERIUS\n"
     ]
    }
   ],
   "source": [
    "from collections import Counter\n",
    "def minimum_window(str1, str2):\n",
    "    result_char, missing_char = Counter(str2), len(str2)\n",
    "    i = p = q = 0\n",
    "    for j, c in enumerate(str1, 1):\n",
    "        missing_char -= result_char[c] > 0\n",
    "        result_char[c] -= 1\n",
    "        if not missing_char:\n",
    "            while i < q and result_char[str1[i]] < 0:\n",
    "                result_char[str1[i]] += 1\n",
    "                i += 1\n",
    "            if not q or j - i <= q - p:\n",
    "                p, q = i, j\n",
    "    return str1[p:q]\n",
    "           \n",
    "str1 = input(\"Enter the string 1: \")\n",
    "str2 = input(\"Enter the string 1: \")\n",
    "\n",
    "print(\"Minimum window: \" , minimum_window(str1,str2))"
   ]
  },
  {
   "cell_type": "markdown",
   "metadata": {},
   "source": [
    "Q14. Write the Python program to count number of substrings from a\n",
    "given string of lowercase alphabets with exactly k distinct (given)\n",
    "characters?\n",
    "\n",
    "    Input a string (lowercase alphabets): wolf\n",
    "    Input k: 4\n",
    "    Number of substrings with exactly 4 distinct characters: 1"
   ]
  },
  {
   "cell_type": "code",
   "execution_count": 209,
   "metadata": {
    "scrolled": false
   },
   "outputs": [
    {
     "name": "stdout",
     "output_type": "stream",
     "text": [
      "Enter the input string with lowercase alphabets: paragraph\n",
      "Number of distinct character (k): 3\n",
      "Number of substrings from a given string of lowercase alphabets with exactly 3 distinct (given) characters is : 13\n"
     ]
    }
   ],
   "source": [
    "from collections import Counter\n",
    "input_string = input(\"Enter the input string with lowercase alphabets: \")\n",
    "distinct_character = int(input(\"Number of distinct character (k): \"))\n",
    "\n",
    "len_input_string = len(input_string)\n",
    "count = 0\n",
    "for charac in range(0,len_input_string):\n",
    "    for sub_string_charac in range(charac,len_input_string):\n",
    "        substring = input_string[charac:sub_string_charac + 1]\n",
    "        dict_string = Counter(substring).keys()\n",
    "        if len(list(dict_string)) == distinct_character:\n",
    "                count += 1\n",
    "\n",
    "print(\"Number of substrings from a given string of lowercase alphabets with exactly {0} distinct (given) characters is : {1}\".format(distinct_character, count))\n"
   ]
  },
  {
   "cell_type": "markdown",
   "metadata": {},
   "source": [
    "Q15. Write the Python program to count number of substrings with same\n",
    "first and last characters of the given string?\n",
    "\n",
    "    Input a string: abcd\n",
    "    4\n"
   ]
  },
  {
   "cell_type": "code",
   "execution_count": 208,
   "metadata": {},
   "outputs": [
    {
     "name": "stdout",
     "output_type": "stream",
     "text": [
      "Enter the input string: paragraph\n",
      "Number of substrings with same first and last characters of the given string:  14\n"
     ]
    }
   ],
   "source": [
    "from collections import Counter\n",
    "input_string = input(\"Enter the input string: \")\n",
    "\n",
    "len_input_string = len(input_string)\n",
    "count = 0\n",
    "for charac in range(0,len_input_string):\n",
    "    for sub_string_charac in range(charac,len_input_string):\n",
    "        substring = input_string[charac:sub_string_charac + 1]\n",
    "        len_substring = len(substring)\n",
    "        if substring[0] == substring[len_substring - 1]:\n",
    "                count += 1\n",
    "\n",
    "print(\"Number of substrings with same first and last characters of the given string: \", count)\n"
   ]
  },
  {
   "cell_type": "markdown",
   "metadata": {},
   "source": [
    "## Great Job!"
   ]
  }
 ],
 "metadata": {
  "kernelspec": {
   "display_name": "Python 3",
   "language": "python",
   "name": "python3"
  },
  "language_info": {
   "codemirror_mode": {
    "name": "ipython",
    "version": 3
   },
   "file_extension": ".py",
   "mimetype": "text/x-python",
   "name": "python",
   "nbconvert_exporter": "python",
   "pygments_lexer": "ipython3",
   "version": "3.6.8"
  }
 },
 "nbformat": 4,
 "nbformat_minor": 2
}
