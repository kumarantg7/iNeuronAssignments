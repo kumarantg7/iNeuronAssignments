{
 "cells": [
  {
   "cell_type": "markdown",
   "metadata": {},
   "source": [
    "# Assignment"
   ]
  },
  {
   "cell_type": "markdown",
   "metadata": {},
   "source": [
    "Q1. Write the Python class to convert an integer to a roman numeral?"
   ]
  },
  {
   "cell_type": "code",
   "execution_count": 130,
   "metadata": {},
   "outputs": [
    {
     "name": "stdout",
     "output_type": "stream",
     "text": [
      "The roman numberal for the given integer is :  MMMMMMDCCCXLVII\n"
     ]
    }
   ],
   "source": [
    "class int_to_roman():\n",
    "    def __init__(self):\n",
    "        self.int_map = [1000, 900, 500, 400, 100, 90, 50, 40, 10, 9, 5, 4, 1]\n",
    "        self.rom_map = [\"M\", \"CM\", \"D\", \"CD\", \"C\", \"XC\", \"L\", \"XL\", \"X\", \"IX\", \"V\", \"IV\", \"I\"]\n",
    "    def convert(self, int_val):\n",
    "        roman_number = ''\n",
    "        i = 0\n",
    "        while  int_val > 0:\n",
    "            for k in range(int_val // self.int_map[i]):\n",
    "                roman_number += self.rom_map[i]\n",
    "                int_val -= self.int_map[i]\n",
    "            i += 1\n",
    "        return roman_number\n",
    "\n",
    "obj1 = int_to_roman()\n",
    "print(\"The roman numberal for the given integer is : \", obj1.convert(6847))"
   ]
  },
  {
   "cell_type": "markdown",
   "metadata": {},
   "source": [
    "Q2 Write the Python class to convert a Roman numeral to an integer?\n"
   ]
  },
  {
   "cell_type": "code",
   "execution_count": 33,
   "metadata": {},
   "outputs": [
    {
     "name": "stdout",
     "output_type": "stream",
     "text": [
      "The integer value for the given roman numberal is :  6847\n"
     ]
    }
   ],
   "source": [
    "class roman_to_int():\n",
    "    def __init__(self):\n",
    "        self.rom_int_map = {'I': 1, 'V': 5, 'X': 10, 'L': 50, 'C': 100, 'D': 500, 'M': 1000}\n",
    "        \n",
    "    def convert(self, int_val):\n",
    "        int_val = 0\n",
    "        for i in range(0,len(input_roman)):\n",
    "\n",
    "            current_char = input_roman[i]\n",
    "            val_current_char = self.rom_int_map[current_char]\n",
    "\n",
    "            if i + 1 == len(input_roman):\n",
    "                EOS = True\n",
    "            else:\n",
    "                EOS = False\n",
    "                next_char = input_roman[i+1]\n",
    "                val_next_char = self.rom_int_map[next_char]\n",
    "\n",
    "            if val_next_char > val_current_char and EOS == False:\n",
    "                int_val -= self.rom_int_map[input_roman[i]]\n",
    "            else:\n",
    "                int_val += self.rom_int_map[input_roman[i]]\n",
    "        return int_val\n",
    "\n",
    "input_roman = 'MMMMMMDCCCXLVII'\n",
    "\n",
    "obj2 = roman_to_int()\n",
    "print(\"The integer value for the given roman numberal is : \", obj2.convert(input_roman))"
   ]
  },
  {
   "cell_type": "markdown",
   "metadata": {},
   "source": [
    "Q3. Write the Python class to find the validity of the string of the\n",
    "parentheses, '(', ')', '{', '}', '[' and '] and the brackets must be closed\n",
    "in the correct order, example - \"()\" and \"()[]{}\" are valid but \"[)\",\n",
    "\"({[)]\" and \"{{{\" are invalid.\n"
   ]
  },
  {
   "cell_type": "code",
   "execution_count": 52,
   "metadata": {},
   "outputs": [
    {
     "name": "stdout",
     "output_type": "stream",
     "text": [
      "True\n"
     ]
    }
   ],
   "source": [
    "class valid_brackets():\n",
    "    def __init__(self):\n",
    "        self.open_brackets = \"({[\"\n",
    "        self.close_brackets = \")}]\"\n",
    "        self.bracket_map = {\")\":\"(\", \"]\":\"[\", \"}\":\"{\"}\n",
    "\n",
    "    def is_valid(self,input_string):\n",
    "        stack = []\n",
    "        for charc in input_string:\n",
    "            if charc in self.open_brackets:\n",
    "                stack.append(charc)\n",
    "            elif charc in self.close_brackets:\n",
    "                if self.bracket_map[charc] in stack:\n",
    "                    stack.remove(self.bracket_map[charc])\n",
    "                else:\n",
    "                    return False\n",
    "        if len(stack) == 0:\n",
    "            return True\n",
    "        else:\n",
    "            return False\n",
    "\n",
    "bracket_string = valid_brackets()\n",
    "\n",
    "input_string = \"[(){[()]{}}[]]\"\n",
    "print(bracket_string.is_valid(input_string))"
   ]
  },
  {
   "cell_type": "markdown",
   "metadata": {},
   "source": [
    "Q4. Write the Python class to get all possible unique subsets from a set\n",
    "of distinct integers?\n",
    "\n",
    "    Input - [4, 5, 6]\n",
    "    Output - [[], [6], [5], [5, 6], [4], [4, 6], [4, 5], [4, 5, 6]]"
   ]
  },
  {
   "cell_type": "code",
   "execution_count": 129,
   "metadata": {},
   "outputs": [
    {
     "name": "stdout",
     "output_type": "stream",
     "text": [
      "[[], [6], [5], [5, 6], [4], [4, 6], [4, 5], [4, 5, 6]]\n"
     ]
    }
   ],
   "source": [
    "class unique_subsets:\n",
    "    def get_subsets(self, sset):\n",
    "        return self.subsetsRecur([], sorted(sset))\n",
    "    \n",
    "    def subsetsRecur(self, current, sset):\n",
    "        if sset:\n",
    "            return self.subsetsRecur(current, sset[1:]) + self.subsetsRecur(current + [sset[0]], sset[1:])\n",
    "        return [current]\n",
    "\n",
    "print(unique_subsets().get_subsets([4,5,6]))"
   ]
  },
  {
   "cell_type": "markdown",
   "metadata": {},
   "source": [
    "Q5. Write the Python class to find a pair of elements (indices of the two\n",
    "numbers) from a given array whose sum equals the specific target\n",
    "number?\n",
    "\n",
    "    Input: numbers- [10,20,10,40,50,60,70], target=50\n",
    "    Output- 3, 4"
   ]
  },
  {
   "cell_type": "code",
   "execution_count": 77,
   "metadata": {},
   "outputs": [
    {
     "name": "stdout",
     "output_type": "stream",
     "text": [
      "The pair of indices for which the sum is equal to the given target is :  [(0, 3), (2, 3)]\n"
     ]
    }
   ],
   "source": [
    "class pair():\n",
    "    \n",
    "    def pairofelements(self, input_list, target):\n",
    "        out_list = []\n",
    "        if len(input_list) < 2:\n",
    "            return\n",
    "        for i in range(0,len(input_list)):\n",
    "            for j in range(i+1,len(input_list)):\n",
    "                if input_list[i] + input_list[j] == target:\n",
    "                    out_list.append((i,j))\n",
    "        return(out_list)\n",
    "\n",
    "input_list = [10,20,10,40,50,60,70]b\n",
    "target = 50\n",
    "print(\"The pair of indices for which the sum is equal to the given target is : \" , pair().pairofelements(input_list, target))"
   ]
  },
  {
   "cell_type": "markdown",
   "metadata": {},
   "source": [
    "Q6. Write the Python class to find the three elements that sum to zero\n",
    "from the set of n real numbers?\n",
    "\n",
    "    Input array- [-25, -10, -7, -3, 2, 4, 8, 10]\n",
    "    Output - [[-10, 2, 8], [-7, -3, 10]]\n"
   ]
  },
  {
   "cell_type": "code",
   "execution_count": 84,
   "metadata": {},
   "outputs": [
    {
     "name": "stdout",
     "output_type": "stream",
     "text": [
      "The pair of indices for which the sum is equal to the given target is :  [(2, -10, 8), (-3, -7, 10)]\n"
     ]
    }
   ],
   "source": [
    "class zerosum():\n",
    "    \n",
    "    def zerosum_fn(self, input_list):\n",
    "        out_list = []\n",
    "        \n",
    "        if len(input_list) < 3:\n",
    "            return\n",
    "        for i in range(0,len(input_list)-1):\n",
    "            track = set()\n",
    "            for j in range(i+1,len(input_list)):\n",
    "                inter_sum =  -(input_list[i] + input_list[j])\n",
    "                if inter_sum in track:\n",
    "                    out_list.append((inter_sum,input_list[i],input_list[j]))\n",
    "                else:\n",
    "                    track.add(input_list[j])\n",
    "        return(out_list)\n",
    "\n",
    "input_list = [-25, -10, -7, -3, 2, 4, 8, 10]\n",
    "print(\"The pair of indices for which the sum is equal to the given target is : \" , zerosum().zerosum_fn(input_list))"
   ]
  },
  {
   "cell_type": "markdown",
   "metadata": {},
   "source": [
    "Q7. Write the Python class to implement pow(x, n)?"
   ]
  },
  {
   "cell_type": "code",
   "execution_count": 87,
   "metadata": {},
   "outputs": [
    {
     "name": "stdout",
     "output_type": "stream",
     "text": [
      "125\n"
     ]
    }
   ],
   "source": [
    "class calculation():\n",
    "    def __init__(self):\n",
    "        pass\n",
    "    def pow(self,number,n):\n",
    "        out_value = 1\n",
    "        for i in range(0,n):\n",
    "            out_value *= number\n",
    "        return out_value\n",
    "    \n",
    "new_obj = calculation()\n",
    "number = 5\n",
    "n = 3\n",
    "print(new_obj.pow(number, n))"
   ]
  },
  {
   "cell_type": "markdown",
   "metadata": {},
   "source": [
    "Q8. Write the Python class which has two methods get_String and\n",
    "print_String. get_String accept the string from the user and \n",
    "print_String print the string in upper case."
   ]
  },
  {
   "cell_type": "code",
   "execution_count": 128,
   "metadata": {},
   "outputs": [
    {
     "name": "stdout",
     "output_type": "stream",
     "text": [
      "Enter the string: supersix\n",
      "The string is:  SUPERSIX\n"
     ]
    }
   ],
   "source": [
    "class String_class:\n",
    "    def __init__(self):\n",
    "        self.str1 = \"\"\n",
    "    def get_String(self):\n",
    "        self.str1 = input(\"Enter the string: \")\n",
    "    def print_String(self):\n",
    "        return self.str1.upper()\n",
    "    \n",
    "mystring = String_class()\n",
    "\n",
    "mystring.get_String()\n",
    "\n",
    "print(\"The string is: \" , mystring.print_String())"
   ]
  },
  {
   "cell_type": "markdown",
   "metadata": {},
   "source": [
    "Q9. Write the Python class named Rectangle constructed by a length\n",
    "and width and the method which will compute the area of the\n",
    "rectangle?"
   ]
  },
  {
   "cell_type": "code",
   "execution_count": 121,
   "metadata": {},
   "outputs": [
    {
     "name": "stdout",
     "output_type": "stream",
     "text": [
      "The area of the Rectangle is :  20\n"
     ]
    }
   ],
   "source": [
    "class Rectangle:\n",
    "    def __init__(self, length, width):\n",
    "        self.length = length\n",
    "        self.width = width\n",
    "    def get_area(self):\n",
    "        return self.length * self.width\n",
    "\n",
    "myshape1 = Rectangle(4,5)\n",
    "\n",
    "print(\"The area of the Rectangle is : \", myshape1.get_area())"
   ]
  },
  {
   "cell_type": "markdown",
   "metadata": {},
   "source": [
    "Q10. Write the Python class named Circle constructed by the radius\n",
    "and two methods which will compute the area and perimeter of\n",
    "the circle?"
   ]
  },
  {
   "cell_type": "code",
   "execution_count": 119,
   "metadata": {},
   "outputs": [
    {
     "name": "stdout",
     "output_type": "stream",
     "text": [
      "The area of the circle is :  28.26\n",
      "The perimeter of the circle is :  18.84\n"
     ]
    }
   ],
   "source": [
    "class Circle:\n",
    "    def __init__(self, radius):\n",
    "        self.radius = radius\n",
    "        self.pi = 3.14\n",
    "    def get_area(self):\n",
    "        return self.radius * self.radius * self.pi\n",
    "    def get_perimeter(self):\n",
    "        return 2 * self.radius * self.pi\n",
    "\n",
    "myshape = Circle(3)\n",
    "\n",
    "print(\"The area of the circle is : \", myshape.get_area())\n",
    "print(\"The perimeter of the circle is : \", myshape.get_perimeter())"
   ]
  },
  {
   "cell_type": "markdown",
   "metadata": {},
   "source": [
    "Q11. Write the Python program to get the class name of an instance in\n",
    "Python?"
   ]
  },
  {
   "cell_type": "code",
   "execution_count": 116,
   "metadata": {},
   "outputs": [
    {
     "name": "stdout",
     "output_type": "stream",
     "text": [
      "The class name of the instances object1 is :  class_name\n",
      "The class name of the instances object2 is :  int\n",
      "The class name of the instances object3 is :  float\n"
     ]
    }
   ],
   "source": [
    "class class_name():\n",
    "    def get_class_name(self, instance):\n",
    "        return instance.__class__.__name__\n",
    "        \n",
    "object1 = class_name()\n",
    "object2 = int(6)\n",
    "object3 = float(7.4)\n",
    "\n",
    "print(\"The class name of the instances object1 is : \", object1.get_class_name(object1))\n",
    "print(\"The class name of the instances object2 is : \", object1.get_class_name(object2))\n",
    "print(\"The class name of the instances object3 is : \", object1.get_class_name(object3))\n"
   ]
  },
  {
   "cell_type": "markdown",
   "metadata": {},
   "source": [
    "Q12. Write the Python program to count the number of students of\n",
    "individual class?\n",
    "\n",
    "    Sample dataclasses = (\n",
    "    ('V', 1),\n",
    "    ('VI', 1),\n",
    "    ('V', 2),\n",
    "    ('VI', 2),\n",
    "    ('VI', 3),\n",
    "    ('VII', 1),\n",
    "    )\n",
    "    Expected OutputCounter({'VI': 3, 'V': 2, 'VII': 1})"
   ]
  },
  {
   "cell_type": "code",
   "execution_count": 120,
   "metadata": {},
   "outputs": [
    {
     "name": "stdout",
     "output_type": "stream",
     "text": [
      "The Output is :  {'V': 3, 'VI': 6, 'VII': 1}\n"
     ]
    }
   ],
   "source": [
    "class Count():\n",
    "    def __init__(self):\n",
    "        super().__init__()\n",
    "        \n",
    "    def count_classes(self, input_list):\n",
    "        total_class_count = {}\n",
    "        for data in data_classes:\n",
    "            if data[0] not in total_class_count:\n",
    "                total_class_count[data[0]] = data[1]\n",
    "            else:\n",
    "                total_class_count[data[0]] += data[1]\n",
    "        return total_class_count\n",
    "    \n",
    "count_obj = Count()\n",
    "input_list = (('V', 1),('VI', 1),('V', 2),('VI', 2),('VI', 3),('VII', 1))\n",
    "\n",
    "print(\"The Output is : \", count_obj.count_classes(input_list))"
   ]
  },
  {
   "cell_type": "markdown",
   "metadata": {},
   "source": [
    "## Great Job!"
   ]
  }
 ],
 "metadata": {
  "kernelspec": {
   "display_name": "Python 3",
   "language": "python",
   "name": "python3"
  },
  "language_info": {
   "codemirror_mode": {
    "name": "ipython",
    "version": 3
   },
   "file_extension": ".py",
   "mimetype": "text/x-python",
   "name": "python",
   "nbconvert_exporter": "python",
   "pygments_lexer": "ipython3",
   "version": "3.6.8"
  }
 },
 "nbformat": 4,
 "nbformat_minor": 2
}
