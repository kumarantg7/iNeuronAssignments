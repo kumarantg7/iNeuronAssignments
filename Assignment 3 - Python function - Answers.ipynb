{
 "cells": [
  {
   "cell_type": "markdown",
   "metadata": {},
   "source": [
    "## Problem Statement"
   ]
  },
  {
   "cell_type": "markdown",
   "metadata": {},
   "source": [
    "Q.1 Write a function to compute 5/0 and use try/except to catch the exceptions."
   ]
  },
  {
   "cell_type": "code",
   "execution_count": 18,
   "metadata": {},
   "outputs": [
    {
     "name": "stdout",
     "output_type": "stream",
     "text": [
      "Error: Invalid operation. division by zero\n",
      "The output of divide is :  None\n"
     ]
    }
   ],
   "source": [
    "def divide(a , b):\n",
    "    try:\n",
    "        c = a/b\n",
    "    except Exception as e: \n",
    "        print(\"Error: Invalid operation.\" , e)\n",
    "    else:\n",
    "        return c\n",
    "\n",
    "output = divide(5,0)\n",
    "print(\"The output of divide is : \", output)\n"
   ]
  },
  {
   "cell_type": "markdown",
   "metadata": {},
   "source": [
    "Q.2 Implement a Python program to generate all sentences where subject is in [\"Americans\",\n",
    "\"Indians\"] and verb is in [\"Play\", \"watch\"] and the object is in [\"Baseball\",\"cricket\"].\n",
    "\n",
    "    Hint: Subject,Verb and Object should be declared in the program as shown below.\n",
    "    subjects=[\"Americans \",\"Indians\"]\n",
    "    verbs=[\"play\",\"watch\"]\n",
    "    objects=[\"Baseball\",\"Cricket\"]\n",
    "\n",
    "    Output should come as below:\n",
    "    Americans play Baseball.\n",
    "    Americans play Cricket.\n",
    "    Americans watch Baseball.\n",
    "    Americans watch Cricket.\n",
    "    Indians play Baseball.\n",
    "    Indians play Cricket.\n",
    "    Indians watch Baseball.\n",
    "    Indians watch Cricket."
   ]
  },
  {
   "cell_type": "code",
   "execution_count": 28,
   "metadata": {},
   "outputs": [
    {
     "name": "stdout",
     "output_type": "stream",
     "text": [
      "Americans play Baseball\n",
      "Americans play Cricket\n",
      "Americans watch Baseball\n",
      "Americans watch Cricket\n",
      "Indians play Baseball\n",
      "Indians play Cricket\n",
      "Indians watch Baseball\n",
      "Indians watch Cricket\n"
     ]
    }
   ],
   "source": [
    "def sentence_generator(subjects, verbs, objects):\n",
    "    out = []\n",
    "    for sub in subjects:\n",
    "        sentence_sub = sub\n",
    "        for verb in verbs:\n",
    "            sentence_verbs = sentence_sub\n",
    "            sentence_verbs = sentence_sub + \" \" + verb\n",
    "            for obj in objects:\n",
    "                sentence_obj = sentence_verbs\n",
    "                sentence_obj = sentence_verbs + \" \" + obj\n",
    "                out.append(sentence_obj)\n",
    "    return out\n",
    "\n",
    "subjects=[\"Americans\",\"Indians\"]\n",
    "verbs=[\"play\",\"watch\"]\n",
    "objects=[\"Baseball\",\"Cricket\"]\n",
    "\n",
    "for sentence in sentence_generator(subjects, verbs, objects):\n",
    "    print(sentence)"
   ]
  },
  {
   "cell_type": "markdown",
   "metadata": {},
   "source": [
    "Q.3 Write a function so that the columns of the output matrix are powers of the input vector.\n",
    "The order of the powers is determined by the increasing boolean argument. Specifically, when\n",
    "increasing is False, the i-th output column is the input vector raised element-wise to the power\n",
    "of N - i - 1.\n",
    "\n",
    "    HINT: Such a matrix with a geometric progression in each row is named for Alexandre Theophile Vandermonde."
   ]
  },
  {
   "cell_type": "code",
   "execution_count": 52,
   "metadata": {},
   "outputs": [
    {
     "name": "stdout",
     "output_type": "stream",
     "text": [
      "The output matrix with decreasing order is: \n",
      "[1, 1, 1, 1, 1, 1]\n",
      "[64, 32, 16, 8, 4, 2]\n",
      "[729, 243, 81, 27, 9, 3]\n",
      "[4096, 1024, 256, 64, 16, 4]\n",
      "[15625, 3125, 625, 125, 25, 5]\n",
      "[46656, 7776, 1296, 216, 36, 6]\n",
      "\n",
      "The output matrix with increasing order is: \n",
      "[1, 1, 1, 1, 1, 1]\n",
      "[1, 2, 4, 8, 16, 32]\n",
      "[1, 3, 9, 27, 81, 243]\n",
      "[1, 4, 16, 64, 256, 1024]\n",
      "[1, 5, 25, 125, 625, 3125]\n",
      "[1, 6, 36, 216, 1296, 7776]\n"
     ]
    }
   ],
   "source": [
    "def vandermonde_matrix(input_vector, no_out_columns, increasing = True):\n",
    "    out_matrix = []\n",
    "    for element in input_vector:\n",
    "        row_vector = []\n",
    "        for power in range(0,no_out_columns):\n",
    "            if increasing == True:\n",
    "                row_vector.append(element**power)\n",
    "            else:\n",
    "                row_vector.append(element**(no_out_columns - power))\n",
    "        out_matrix.append(row_vector)\n",
    "    return out_matrix\n",
    "\n",
    "input_vector = [1,2,3,4,5,6]\n",
    "no_out_columns = len(input_vector)\n",
    "\n",
    "print(\"The output matrix with decreasing order is: \")\n",
    "for row in vandermonde_matrix(input_vector, no_out_columns, increasing = False):\n",
    "    print(row)\n",
    "    \n",
    "print(\"\\nThe output matrix with increasing order is: \")\n",
    "for row in vandermonde_matrix(input_vector, no_out_columns, increasing = True):\n",
    "    print(row)\n"
   ]
  },
  {
   "cell_type": "code",
   "execution_count": null,
   "metadata": {},
   "outputs": [],
   "source": []
  }
 ],
 "metadata": {
  "kernelspec": {
   "display_name": "Python 3",
   "language": "python",
   "name": "python3"
  },
  "language_info": {
   "codemirror_mode": {
    "name": "ipython",
    "version": 3
   },
   "file_extension": ".py",
   "mimetype": "text/x-python",
   "name": "python",
   "nbconvert_exporter": "python",
   "pygments_lexer": "ipython3",
   "version": "3.6.8"
  }
 },
 "nbformat": 4,
 "nbformat_minor": 2
}
