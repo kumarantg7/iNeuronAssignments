{
 "cells": [
  {
   "cell_type": "markdown",
   "metadata": {},
   "source": [
    "# Assignments"
   ]
  },
  {
   "cell_type": "markdown",
   "metadata": {},
   "source": [
    "Q1. Write the Python function to get a string made of 4 copies of the last\n",
    "two characters of the specified string (length must be at least 2).\n",
    "\n",
    "    Sample function and result :\n",
    "    insert-end ('Python') -> abababab\n",
    "    insert-end('Exercises') -> jkjkjkjk"
   ]
  },
  {
   "cell_type": "code",
   "execution_count": 7,
   "metadata": {},
   "outputs": [
    {
     "name": "stdout",
     "output_type": "stream",
     "text": [
      "Enter the input string: python\n",
      "The ouput is :  onononon\n"
     ]
    }
   ],
   "source": [
    "def char4(input_string):\n",
    "    if len(input_string) >= 2:\n",
    "        return input_string[-2:]*4\n",
    "    else:\n",
    "        return\n",
    "\n",
    "input_string = input(\"Enter the input string: \")\n",
    "print(\"The ouput is : \", char4(input_string))"
   ]
  },
  {
   "cell_type": "markdown",
   "metadata": {},
   "source": [
    "Q2. Write the python function to get a string made of its first three\n",
    "characters of a specified string. If the length of the string is less than 3\n",
    "then return the original string.\n",
    "    \n",
    "    Sample function and result :\n",
    "    first-three('ipy') -> ipy\n",
    "    first-three('python') -> pyt"
   ]
  },
  {
   "cell_type": "code",
   "execution_count": 10,
   "metadata": {},
   "outputs": [
    {
     "name": "stdout",
     "output_type": "stream",
     "text": [
      "Enter the input string: python\n",
      "The ouput is :  pyt\n"
     ]
    }
   ],
   "source": [
    "def first3(input_string):\n",
    "    if len(input_string) >= 3:\n",
    "        return input_string[0:3]\n",
    "    else:\n",
    "        return input_string\n",
    "\n",
    "input_string = input(\"Enter the input string: \")\n",
    "print(\"The ouput is : \", first3(input_string))"
   ]
  },
  {
   "cell_type": "markdown",
   "metadata": {},
   "source": [
    "Q3. Write the Python program to find smallest window that contains all\n",
    "characters of the given string?\n",
    "\n",
    "    Original Strings:\n",
    "    asdaewsqgtwwsa\n",
    "    Smallest window that contains all characters of the said string:\n",
    "    Daewsqgt"
   ]
  },
  {
   "cell_type": "code",
   "execution_count": 3,
   "metadata": {},
   "outputs": [
    {
     "name": "stdout",
     "output_type": "stream",
     "text": [
      "Enter the string 1: asdaewsqgtwwsa\n",
      "Minimum window:  daewsqgtw\n"
     ]
    }
   ],
   "source": [
    "from functools import reduce\n",
    "from collections import Counter\n",
    "def minimum_window(str1, str2):\n",
    "    result_char = Counter(str2)\n",
    "    missing_char = len(str2)\n",
    "    i = p = q = 0\n",
    "    for j, c in enumerate(str1, 1):\n",
    "        missing_char -= result_char[c] > 0\n",
    "        result_char[c] -= 1\n",
    "        if not missing_char:\n",
    "            while i < q and result_char[str1[i]] < 0:\n",
    "                result_char[str1[i]] += 1\n",
    "                i += 1\n",
    "            if not q or j - i <= q - p:\n",
    "                p, q = i, j\n",
    "    return str1[p:q]\n",
    "           \n",
    "str1 = input(\"Enter the string 1: \")\n",
    "str2 = reduce(lambda x,y: x+y, list(Counter(str1).keys()))\n",
    "print(\"Minimum window: \" , minimum_window(str1,str2))"
   ]
  },
  {
   "cell_type": "markdown",
   "metadata": {},
   "source": [
    "Q4. Write the Python program to count number of substrings from a\n",
    "given string of lowercase alphabets with exactly k distinct (given)\n",
    "characters?\n",
    "\n",
    "    Input a string (lowercase alphabets): wolf\n",
    "    Input k: 4\n",
    "    Number of substrings with exactly 4 distinct characters: 1"
   ]
  },
  {
   "cell_type": "code",
   "execution_count": 5,
   "metadata": {},
   "outputs": [
    {
     "name": "stdout",
     "output_type": "stream",
     "text": [
      "Enter the input string with lowercase alphabets: india\n",
      "Number of distinct character (k): 2\n",
      "Number of substrings from a given string of lowercase alphabets with exactly 2 distinct (given) characters is : 4\n"
     ]
    }
   ],
   "source": [
    "from collections import Counter\n",
    "\n",
    "def distinct_subsring(input_string, distinct_character):\n",
    "    len_input_string = len(input_string)\n",
    "    count = 0\n",
    "    for charac in range(0,len_input_string):\n",
    "        for sub_string_charac in range(charac,len_input_string):\n",
    "            substring = input_string[charac:sub_string_charac + 1]\n",
    "            dict_string = Counter(substring).keys()\n",
    "            if len(list(dict_string)) == distinct_character:\n",
    "                    count += 1\n",
    "    return count\n",
    "\n",
    "input_string = input(\"Enter the input string with lowercase alphabets: \")\n",
    "distinct_character = int(input(\"Number of distinct character (k): \"))\n",
    "count = distinct_subsring(input_string, distinct_character)\n",
    "print(\"Number of substrings from a given string of lowercase alphabets with exactly {0} distinct (given) characters is : {1}\".format(distinct_character, count))\n"
   ]
  },
  {
   "cell_type": "markdown",
   "metadata": {},
   "source": [
    "Q5. Write the Python program to count number of non-empty\n",
    "substrings of the given string?\n",
    "\n",
    "    Input a string: w3resource\n",
    "    Number of substrings:\n",
    "    55"
   ]
  },
  {
   "cell_type": "code",
   "execution_count": 10,
   "metadata": {},
   "outputs": [
    {
     "name": "stdout",
     "output_type": "stream",
     "text": [
      "Enter the input string: w3resource\n",
      "Number of substrings from the given string is : 55\n"
     ]
    }
   ],
   "source": [
    "from collections import Counter\n",
    "\n",
    "def substring_count(input_string):\n",
    "    len_input_string = len(input_string)\n",
    "    count = 0\n",
    "    for charac in range(0,len_input_string):\n",
    "        for sub_string_charac in range(charac,len_input_string):\n",
    "            substring = input_string[charac:sub_string_charac + 1]\n",
    "            count += 1\n",
    "    return count\n",
    "\n",
    "input_string = input(\"Enter the input string: \")\n",
    "count = substring_count(input_string)\n",
    "print(\"Number of substrings from the given string is : {}\".format(count))\n"
   ]
  },
  {
   "cell_type": "markdown",
   "metadata": {},
   "source": [
    "Q6. Write the Python program to count the number of strings where the\n",
    "string length is 2 or more, and first and last character are same\n",
    "from a given list of strings.\n",
    "\n",
    "    Sample List : ['abc', 'xyz', 'wxw', '1331']\n",
    "    Expected Result: 2"
   ]
  },
  {
   "cell_type": "code",
   "execution_count": 16,
   "metadata": {},
   "outputs": [
    {
     "name": "stdout",
     "output_type": "stream",
     "text": [
      "The count of words longer than length 2 from the given list is : 2\n"
     ]
    }
   ],
   "source": [
    "def filter_Words(input_list, n=2):\n",
    "    output_list = []\n",
    "    count = 0\n",
    "    for word in input_list:\n",
    "        if len(word) > n and word[0] == word[-1]:\n",
    "            output_list.append(word)\n",
    "            count += 1\n",
    "    return count\n",
    "            \n",
    "input_list = ['abc', 'xyz', 'wxw', '1331']\n",
    "print(\"The count of words longer than length 2 from the given list is : {}\".format(filter_Words(input_list)))"
   ]
  },
  {
   "cell_type": "markdown",
   "metadata": {},
   "source": [
    "Q7. Write the Python program to get a list, sorted in increasing order by\n",
    "the last element in each tuple from the given list of non-empty\n",
    "tuples?\n",
    "\n",
    "    Sample List - [ (2, 5), (1, 2), (4, 4), (2, 3), (2, 1) ]\n",
    "    Expected Result - [ (2, 1), (1, 2), (2, 3), (4, 4), (2, 5) ]"
   ]
  },
  {
   "cell_type": "code",
   "execution_count": 17,
   "metadata": {},
   "outputs": [
    {
     "name": "stdout",
     "output_type": "stream",
     "text": [
      "The sorted list by the last element of the tuple is : \n",
      " [(2, 1), (1, 2), (2, 3), (4, 4), (2, 5)]\n"
     ]
    }
   ],
   "source": [
    "def sort_by_last(input_list):\n",
    "    sorted_list = sorted(input_list, key = lambda tuple_1: tuple_1[-1])\n",
    "    return sorted_list\n",
    "\n",
    "input_list = [ (2, 5), (1, 2), (4, 4), (2, 3), (2, 1) ]\n",
    "print(\"The sorted list by the last element of the tuple is : \\n\", sort_by_last(input_list))"
   ]
  },
  {
   "cell_type": "markdown",
   "metadata": {},
   "source": [
    "Q8. Write the Python program to remove duplicates from a list?"
   ]
  },
  {
   "cell_type": "code",
   "execution_count": 25,
   "metadata": {},
   "outputs": [
    {
     "name": "stdout",
     "output_type": "stream",
     "text": [
      "The list with duplicates removed is :  [2, 5, 4, 7, 9, 1]\n"
     ]
    }
   ],
   "source": [
    "def remove_dup(input_list):\n",
    "    out_list = []\n",
    "    for element in input_list:\n",
    "        if element not in out_list:\n",
    "            out_list.append(element)\n",
    "    return out_list\n",
    "\n",
    "input_list = [2,5,4,7,9,2,4,5,7,1]\n",
    "print(\"The list with duplicates removed is : \" , remove_dup(input_list))"
   ]
  },
  {
   "cell_type": "markdown",
   "metadata": {},
   "source": [
    "Q9. Write the Python program to find the list of words that are longer\n",
    "than n from a given list of words?"
   ]
  },
  {
   "cell_type": "code",
   "execution_count": 26,
   "metadata": {},
   "outputs": [
    {
     "name": "stdout",
     "output_type": "stream",
     "text": [
      "The words longer than length 4 from the given list is : ['monday', 'holiday', 'samsungtv']\n"
     ]
    }
   ],
   "source": [
    "def filter_longWords(input_list, n):\n",
    "    output_list = []\n",
    "    for word in input_list:\n",
    "        if len(word) > n:\n",
    "            output_list.append(word)\n",
    "    return output_list\n",
    "            \n",
    "input_list = [\"hi\" , \"yes\", \"monday\" , \"four\", \"holiday\" , \"samsungtv\"]\n",
    "n = 4\n",
    "\n",
    "print(\"The words longer than length {} from the given list is : {}\".format(n, filter_longWords(input_list,n)))"
   ]
  },
  {
   "cell_type": "markdown",
   "metadata": {},
   "source": [
    "Q10. Write the Python program to print a specified list after removing the\n",
    "0th, 4th, and 5th elements?\n",
    "    \n",
    "    Sample List - ['Red', 'Green', 'White', 'Black', 'Pink', 'Yellow']\n",
    "    Expected Output - ['Green', 'White', 'Black']"
   ]
  },
  {
   "cell_type": "code",
   "execution_count": 28,
   "metadata": {},
   "outputs": [
    {
     "name": "stdout",
     "output_type": "stream",
     "text": [
      "The list with 0th, 4th, and 5th elements removed are :  ['Green', 'White', 'Black']\n"
     ]
    }
   ],
   "source": [
    "def rem045(input_list):\n",
    "    return input_list[1:4] + input_list[6:]\n",
    "\n",
    "input_list = ['Red', 'Green', 'White', 'Black', 'Pink', 'Yellow']\n",
    "print(\"The list with 0th, 4th, and 5th elements removed are : \", rem045(input_list))"
   ]
  },
  {
   "cell_type": "markdown",
   "metadata": {},
   "source": [
    "Q11. Write the Python program to generate all permutations of a list in\n",
    "Python?"
   ]
  },
  {
   "cell_type": "code",
   "execution_count": 29,
   "metadata": {
    "scrolled": true
   },
   "outputs": [
    {
     "name": "stdout",
     "output_type": "stream",
     "text": [
      "['a', 'b', 'c']\n",
      "['a', 'c', 'b']\n",
      "['b', 'a', 'c']\n",
      "['b', 'c', 'a']\n",
      "['c', 'a', 'b']\n",
      "['c', 'b', 'a']\n"
     ]
    }
   ],
   "source": [
    "def permutations(input_list):\n",
    "    \n",
    "    if len(input_list) == 0: \n",
    "        return [] \n",
    "\n",
    "    if len(input_list) == 1: \n",
    "        return [input_list]\n",
    "    \n",
    "    out_list = []\n",
    "    \n",
    "    for i in range(0,len(input_list)):\n",
    "        current_element = input_list[i]\n",
    "        Remaining_elements = input_list[:i] + input_list[i+1:]\n",
    "        for j in permutations(Remaining_elements):\n",
    "            out_list.append([current_element] + j)\n",
    "\n",
    "    return out_list\n",
    "\n",
    "input_list = [\"a\",\"b\",\"c\"]\n",
    "for data in permutations(input_list):\n",
    "    print(data)"
   ]
  },
  {
   "cell_type": "markdown",
   "metadata": {},
   "source": [
    "Q12. Write the Python program to convert a pair of values into a sorted\n",
    "unique array?\n",
    " \n",
    "    Original List- [ (1, 2), (3, 4), (1, 2), (5, 6), (7, 8), (1, 2), (3, 4), (3, 4), (7, 8), (9, 10) ]\n",
    "    Sorted Unique Data- [ 1, 2, 3, 4, 5, 6, 7, 8, 9, 10 ] \n"
   ]
  },
  {
   "cell_type": "code",
   "execution_count": 45,
   "metadata": {},
   "outputs": [
    {
     "name": "stdout",
     "output_type": "stream",
     "text": [
      "The sorted unique array is :  [1, 2, 3, 4, 5, 6, 7, 8, 9, 10]\n"
     ]
    }
   ],
   "source": [
    "from collections import Counter\n",
    "\n",
    "def pair_to_array(input_list):\n",
    "    ouput_list = []\n",
    "    for element in input_list:\n",
    "        ouput_list.append(element[0])\n",
    "        ouput_list.append(element[1])\n",
    "    return list(Counter(ouput_list).keys())\n",
    "\n",
    "input_list = [ (1, 2), (3, 4), (1, 2), (5, 6), (7, 8), (1, 2), (3, 4), (3, 4), (7, 8), (9, 10) ]\n",
    "print(\"The sorted unique array is : \", pair_to_array(input_list))"
   ]
  },
  {
   "cell_type": "markdown",
   "metadata": {},
   "source": [
    "## Great job!"
   ]
  }
 ],
 "metadata": {
  "kernelspec": {
   "display_name": "Python 3",
   "language": "python",
   "name": "python3"
  },
  "language_info": {
   "codemirror_mode": {
    "name": "ipython",
    "version": 3
   },
   "file_extension": ".py",
   "mimetype": "text/x-python",
   "name": "python",
   "nbconvert_exporter": "python",
   "pygments_lexer": "ipython3",
   "version": "3.6.8"
  }
 },
 "nbformat": 4,
 "nbformat_minor": 2
}
