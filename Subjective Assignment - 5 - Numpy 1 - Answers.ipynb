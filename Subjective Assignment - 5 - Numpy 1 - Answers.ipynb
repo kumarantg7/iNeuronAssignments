{
 "cells": [
  {
   "cell_type": "markdown",
   "metadata": {},
   "source": [
    "# Assignment"
   ]
  },
  {
   "cell_type": "markdown",
   "metadata": {},
   "source": [
    "Q1. Write the NumPy program to create a 2d array with 6 on the border\n",
    "and 0 inside?\n",
    "\n",
    "    Expected OutputOriginal array-\n",
    "    [ [6 6 6 6 6]\n",
    "     [ 6 6 6 6 6]\n",
    "     [ 6 6 6 6 6 ]\n",
    "    [ 6 6 6 6 6 ]\n",
    "    [ 6 6 6 6 ] ].\n",
    "    6 on the border and 0 inside in the array-\n",
    "    [[ 6 6 6 6 6]\n",
    "    [ 6 0 0 0 6]\n",
    "    [ 6 0 0 0 6]\n",
    "    [ 6 0 0 0 6]\n",
    "    [ 6 6 6 6 6]]."
   ]
  },
  {
   "cell_type": "code",
   "execution_count": 22,
   "metadata": {},
   "outputs": [
    {
     "name": "stdout",
     "output_type": "stream",
     "text": [
      "[[6 6 6 6 6]\n",
      " [6 0 0 0 6]\n",
      " [6 0 0 0 6]\n",
      " [6 0 0 0 6]\n",
      " [6 0 0 0 6]\n",
      " [6 6 6 6 6]]\n"
     ]
    }
   ],
   "source": [
    "import numpy as np\n",
    "\n",
    "my_array= np.ones((6,5), dtype = int) * 6\n",
    "my_array[1:-1,1:-1] = 0\n",
    "print(my_array)"
   ]
  },
  {
   "cell_type": "markdown",
   "metadata": {},
   "source": [
    "Q2. Write the NumPy program to create a 8x8 matrix and fill it with the\n",
    "checkerboard pattern?\n",
    "    \n",
    "    Checkerboard pattern-\n",
    "    [[3 9 3 9 3 9 3 9]\n",
    "    [9 3 9 3 9 3 9 3]\n",
    "    [3 9 3 9 3 9 3 9]\n",
    "    [9 3 9 3 9 3 9 3]\n",
    "    [3 9 3 9 3 9 3 9]\n",
    "    [9 3 9 3 9 3 9 3]\n",
    "    [3 9 3 9 3 9 3 9]\n",
    "    [9 3 9 3 9 3 9 3]]."
   ]
  },
  {
   "cell_type": "code",
   "execution_count": 21,
   "metadata": {},
   "outputs": [
    {
     "name": "stdout",
     "output_type": "stream",
     "text": [
      "[[3 9 3 9 3 9 3 9]\n",
      " [9 3 9 3 9 3 9 3]\n",
      " [3 9 3 9 3 9 3 9]\n",
      " [9 3 9 3 9 3 9 3]\n",
      " [3 9 3 9 3 9 3 9]\n",
      " [9 3 9 3 9 3 9 3]\n",
      " [3 9 3 9 3 9 3 9]\n",
      " [9 3 9 3 9 3 9 3]]\n"
     ]
    }
   ],
   "source": [
    "import numpy as np\n",
    "\n",
    "my_array= np.ones((8,8), dtype = int) * 3\n",
    "my_array[1::2,0::2] = my_array[1::2,0::2] * 3\n",
    "my_array[0::2,1::2] = my_array[0::2,1::2] * 3\n",
    "print(my_array)"
   ]
  },
  {
   "cell_type": "markdown",
   "metadata": {},
   "source": [
    "Q3. Write the NumPy program to create an empty and a full array.\n",
    " \n",
    "     Expected Output-\n",
    "    [[4.45057637e-308 1.78021527e-306 8.45549797e-307 1.37962049e-306]\n",
    "    [1.11260619e-306 1.78010255e-306 9.79054228e-307 4.45057637e-308]\n",
    "    [8.45596650e-307 9.34602321e-307 4.94065646e-322 0.00000000e+000]]\n",
    "    [[6 6 6]\n",
    "    [6 6 6]\n",
    "    [6 6 6]]\n"
   ]
  },
  {
   "cell_type": "code",
   "execution_count": 28,
   "metadata": {},
   "outputs": [
    {
     "name": "stdout",
     "output_type": "stream",
     "text": [
      "Empty Array is :\n",
      " [[0.00000000e+000 0.00000000e+000 0.00000000e+000]\n",
      " [0.00000000e+000 0.00000000e+000 7.49003519e-321]\n",
      " [6.36598737e-314 6.36598737e-314 2.12199579e-314]]\n",
      "\n",
      "Full Array is :\n",
      " [[6 6 6]\n",
      " [6 6 6]\n",
      " [6 6 6]]\n"
     ]
    }
   ],
   "source": [
    "import numpy as np\n",
    "empty_array = np.empty((3,3))\n",
    "print(\"Empty Array is :\\n\", empty_array)\n",
    "\n",
    "full_array = np.full((3,3), 6)\n",
    "print(\"\\nFull Array is :\\n\", full_array)"
   ]
  },
  {
   "cell_type": "markdown",
   "metadata": {},
   "source": [
    "Q4. Write the NumPy program to convert the values of Centigrade\n",
    "degrees into the Fahrenheit degrees and the centigrade values are\n",
    "stored in the NumPy array.\n",
    "    \n",
    "    Sample Array -[0, 12, 45.21 ,34, 99.91]\n",
    "    Expected OutputValues in Fahrenheit degrees-\n",
    "    [ 0. 12. 45.21 34. 99.91]\n",
    "    Values in Centigrade degrees-\n",
    "    [-17.77777778 -11.11111111 7.33888889 1.11111111 37.72777778]"
   ]
  },
  {
   "cell_type": "code",
   "execution_count": 40,
   "metadata": {},
   "outputs": [
    {
     "name": "stdout",
     "output_type": "stream",
     "text": [
      "The Fahrenheit array is:  [ 0.   12.   45.21 34.   99.91]\n",
      "The Fahrenheit to Celsius conversion is:  [-17.77777778 -11.11111111   7.33888889   1.11111111  37.72777778]\n",
      "The Celsius to Fahrenheit conversion is:  [ 0.   12.   45.21 34.   99.91]\n"
     ]
    }
   ],
   "source": [
    "def fah_to_cel(input_fah_array):\n",
    "    return (input_fah_array -32) * (5 / 9)\n",
    "\n",
    "def cel_to_fah(input_cel_array):\n",
    "    return (input_cel_array * (9 / 5)) + 32\n",
    "\n",
    "fah_array = np.array([0, 12, 45.21 ,34, 99.91])\n",
    "print(\"The Fahrenheit array is: \", fah_array)\n",
    "\n",
    "cel_array = fah_to_cel(fah_array)\n",
    "print(\"The Fahrenheit to Celsius conversion is: \", cel_array)\n",
    "\n",
    "fah_array = cel_to_fah(cel_array)\n",
    "print(\"The Celsius to Fahrenheit conversion is: \", fah_array)\n"
   ]
  },
  {
   "cell_type": "markdown",
   "metadata": {},
   "source": [
    "Q5. Write the NumPy program to find the real and imaginary parts of an\n",
    "array of complex numbers?\n",
    "\n",
    "    Expected OutputOriginal array [ 1.00000000+0.j 0.70710678+0.70710678j]\n",
    "    Real part of the array-\n",
    "    [ 1. 0.70710678]\n",
    "    Imaginary part of the array-\n",
    "    [ 0. 0.70710678]"
   ]
  },
  {
   "cell_type": "code",
   "execution_count": 47,
   "metadata": {},
   "outputs": [
    {
     "name": "stdout",
     "output_type": "stream",
     "text": [
      "Real part of the array is:  [1.         0.70710678]\n",
      "Imaginary part of the array is:  [0.         0.70710678]\n"
     ]
    }
   ],
   "source": [
    "input_array = np.array([ 1.00000000+0.j, 0.70710678+0.70710678j])\n",
    "print(\"Real part of the array is: \", input_array.real)\n",
    "print(\"Imaginary part of the array is: \", input_array.imag)"
   ]
  },
  {
   "cell_type": "markdown",
   "metadata": {},
   "source": [
    "Q6. Write the NumPy program to test whether each element of a 1-D\n",
    "array is also present in the second array?\n",
    "\n",
    "    Expected OutputArray1: [ 0 10 20 40 60]\n",
    "    Array2: [0, 40]\n",
    "    Compare each element of array1 and array2\n",
    "    [ True False False True False]\n"
   ]
  },
  {
   "cell_type": "code",
   "execution_count": 161,
   "metadata": {},
   "outputs": [
    {
     "name": "stdout",
     "output_type": "stream",
     "text": [
      "Comparing each element of array1 and array2:\n",
      "[ True False False  True False]\n"
     ]
    }
   ],
   "source": [
    "array1 = np.array([ 0, 10, 20, 40, 60])\n",
    "array2 = np.array([0, 40])\n",
    "\n",
    "print(\"Comparing each element of array1 and array2:\")\n",
    "print(np.in1d(array1, array2))"
   ]
  },
  {
   "cell_type": "markdown",
   "metadata": {},
   "source": [
    "Q7. Write the NumPy program to find common values between two\n",
    "arrays?\n",
    "    \n",
    "    Expected OutputArray1: [ 0 10 20 40 60]\n",
    "    Array2: [10, 30, 40]\n",
    "    Common values between two arrays-\n",
    "    [10 40]"
   ]
  },
  {
   "cell_type": "code",
   "execution_count": 57,
   "metadata": {},
   "outputs": [
    {
     "name": "stdout",
     "output_type": "stream",
     "text": [
      "Common values between two arrays:\n",
      "[10 40]\n"
     ]
    }
   ],
   "source": [
    "array1 = np.array([ 0, 10, 20, 40, 60])\n",
    "array2 = np.array([10, 30, 40])\n",
    "\n",
    "print(\"Common values between two arrays:\")\n",
    "print(np.intersect1d(array1, array2))"
   ]
  },
  {
   "cell_type": "markdown",
   "metadata": {},
   "source": [
    "Q8. Write the NumPy program to get the unique elements of an array?\n",
    "\n",
    "    Expected OutputOriginal array-\n",
    "    [10 10 20 20 30 30]\n",
    "    Unique elements of the above array-\n",
    "    [10 20 30]\n",
    "    P a g e 14 | 44\n",
    "    Original array-\n",
    "    [[1 1]\n",
    "    [2 3]]\n",
    "    Unique elements of the above array-\n",
    "    [1 2 3]"
   ]
  },
  {
   "cell_type": "code",
   "execution_count": 62,
   "metadata": {},
   "outputs": [
    {
     "name": "stdout",
     "output_type": "stream",
     "text": [
      "Unique elements of the array1\n",
      "[10 20 30]\n",
      "\n",
      "Unique elements of the array2\n",
      "[1 2 3]\n"
     ]
    }
   ],
   "source": [
    "array1 = np.array([ 10, 10, 20, 20, 30, 30])\n",
    "array2 = np.array([[1, 1], [2, 3]])\n",
    "\n",
    "print(\"Unique elements of the array1\")\n",
    "print(np.unique(array1))\n",
    "\n",
    "print(\"\\nUnique elements of the array2\")\n",
    "print(np.unique(array2))"
   ]
  },
  {
   "cell_type": "markdown",
   "metadata": {},
   "source": [
    "Q9. Write the NumPy program to find the set exclusive-or of two arrays.\n",
    "Set exclusive-or will return the sorted, unique values that are in\n",
    "only one (not both) of the input arrays?\n",
    "\n",
    "    Array1- [ 0 10 20 40 60 80]\n",
    "    Array2- [10, 30, 40, 50, 70]\n",
    "    Unique values that are in only one (not both) of the input arrays-\n",
    "    [ 0 20 30 50 60 70 80]"
   ]
  },
  {
   "cell_type": "code",
   "execution_count": 63,
   "metadata": {},
   "outputs": [
    {
     "name": "stdout",
     "output_type": "stream",
     "text": [
      "Unique values that are in only one (not both) of the input arrays:\n",
      "[ 0 20 30 50 60 70 80]\n"
     ]
    }
   ],
   "source": [
    "Array1 = np.array([ 0, 10, 20, 40, 60, 80])\n",
    "Array2 = np.array([10, 30, 40, 50, 70])\n",
    "\n",
    "print(\"Unique values that are in only one (not both) of the input arrays:\")\n",
    "print(np.setxor1d(Array1, Array2))\n"
   ]
  },
  {
   "cell_type": "markdown",
   "metadata": {},
   "source": [
    "Q10. Write the NumPy program to test if all elements in an array\n",
    "evaluate to True ?\n",
    " \n",
    "Note: 0 evaluates to False in NumPy"
   ]
  },
  {
   "cell_type": "code",
   "execution_count": 75,
   "metadata": {},
   "outputs": [
    {
     "name": "stdout",
     "output_type": "stream",
     "text": [
      "False\n",
      "True\n"
     ]
    }
   ],
   "source": [
    "array1 = np.array([ 0, 10, 20, 40, 60, 80])\n",
    "aArray2 = np.array([10, 30, 40, 50, 70])\n",
    "\n",
    "print(np.all(array1))\n",
    "print(np.all(array2))"
   ]
  },
  {
   "cell_type": "markdown",
   "metadata": {},
   "source": [
    "Q11. Write the NumPy program to test whether any array element along\n",
    "the given axis evaluates to True?\n",
    " \n",
    "Note: 0 evaluates to False in NumPy"
   ]
  },
  {
   "cell_type": "code",
   "execution_count": 97,
   "metadata": {},
   "outputs": [
    {
     "name": "stdout",
     "output_type": "stream",
     "text": [
      "The array is: \n",
      " [[5 8 5 0]\n",
      " [0 1 7 6]\n",
      " [2 4 5 2]\n",
      " [4 2 4 7]]\n",
      "\n",
      "Test along axis = 0\n",
      " [False  True  True False]\n",
      "\n",
      "Test along axis = 1\n",
      " [False False  True  True]\n"
     ]
    }
   ],
   "source": [
    "np.random.seed(1)\n",
    "array1 = np.random.randint(0,9,16).reshape(4,-1)\n",
    "print(\"The array is: \\n\", array1)\n",
    "print(\"\\nTest along axis = 0\\n\", np.all(array1, 0))\n",
    "print(\"\\nTest along axis = 1\\n\", np.all(array1, 1))"
   ]
  },
  {
   "cell_type": "markdown",
   "metadata": {},
   "source": [
    "Q12. Write the NumPy program to construct an array by repeating?\n",
    "\n",
    "    Sample array- [1, 2, 3, 4]\n",
    "    Expected OutputOriginal array\n",
    "    [1, 2, 3, 4]\n",
    "    Repeating 2 times\n",
    "    [1 2 3 4 1 2 3 4]\n",
    "    Repeating 3 times\n",
    "    [1 2 3 4 1 2 3 4 1 2 3 4]"
   ]
  },
  {
   "cell_type": "code",
   "execution_count": 100,
   "metadata": {},
   "outputs": [
    {
     "name": "stdout",
     "output_type": "stream",
     "text": [
      "Input Array:\n",
      " [1 2 3 4]\n",
      "\n",
      "Repeating 2 times\n",
      " [1 2 3 4 1 2 3 4]\n",
      "\n",
      "Repeating 3 times\n",
      " [1 2 3 4 1 2 3 4 1 2 3 4]\n"
     ]
    }
   ],
   "source": [
    "array1 = np.array([1, 2, 3, 4])\n",
    "\n",
    "print(\"Input Array:\\n\", array1)\n",
    "\n",
    "print(\"\\nRepeating 2 times\\n\", np.tile(array1, 2))\n",
    "\n",
    "print(\"\\nRepeating 3 times\\n\", np.tile(array1, 3))"
   ]
  },
  {
   "cell_type": "markdown",
   "metadata": {},
   "source": [
    "Q13. Write the NumPy program to find the indices of the maximum and\n",
    "minimum values with the given axis of an array?\n",
    "\n",
    "    Original array- [1 2 3 4 5 6]\n",
    "    Maximum Values- 5\n",
    "    Minimum Values- 0"
   ]
  },
  {
   "cell_type": "code",
   "execution_count": 110,
   "metadata": {},
   "outputs": [
    {
     "name": "stdout",
     "output_type": "stream",
     "text": [
      "The index of maximum value is:  5\n",
      "The index of minimum value is:  0\n"
     ]
    }
   ],
   "source": [
    "array1 = np.array([1, 2, 3, 4, 5, 6])\n",
    "print(\"The index of maximum value is: \", np.argmax(array1))\n",
    "print(\"The index of minimum value is: \", np.argmin(array1))"
   ]
  },
  {
   "cell_type": "markdown",
   "metadata": {},
   "source": [
    "Q14. Write the NumPy program compare two arrays using numpy?\n",
    "\n",
    "    Array a- [1 2]\n",
    "    Array b- [4 5]\n",
    "    a > b\n",
    "    [False False]\n",
    "    a >= b\n",
    "    [False False]\n",
    "    a < b\n",
    "    [ True True]\n",
    "    a <= b\n",
    "    [ True True]\n"
   ]
  },
  {
   "cell_type": "code",
   "execution_count": 125,
   "metadata": {},
   "outputs": [
    {
     "name": "stdout",
     "output_type": "stream",
     "text": [
      "Is array1 > array2 :  [False False  True]\n",
      "Is array1 >= array2 :  [ True False  True]\n",
      "Is array1 < array2 :  [False  True False]\n",
      "Is array1 <= array2 :  [ True  True False]\n"
     ]
    }
   ],
   "source": [
    "array1 = np.array([1, 2, 7])\n",
    "array2 = np.array([1, 5, 4])\n",
    "\n",
    "print(\"Is array1 > array2 : \", np.greater(array1, array2))\n",
    "print(\"Is array1 >= array2 : \", np.greater_equal(array1, array2))\n",
    "\n",
    "print(\"Is array1 < array2 : \", np.less(array1, array2))\n",
    "print(\"Is array1 <= array2 : \", np.less_equal(array1, array2))"
   ]
  },
  {
   "cell_type": "markdown",
   "metadata": {},
   "source": [
    "Q15. Write the NumPy program to sort an along the first, last axis of an\n",
    "array?\n",
    "\n",
    "    Sample array- [[2,5],[4,4]]\n",
    "    Expected OutputOriginal array:\n",
    "    [[4 6]\n",
    "    [2 1]]\n",
    "    Sort along the first axis:\n",
    "    [[2 1]\n",
    "    [4 6]]\n",
    "    Sort along the last axis-\n",
    "    [[1 2]\n",
    "    [4 6]]"
   ]
  },
  {
   "cell_type": "code",
   "execution_count": 139,
   "metadata": {},
   "outputs": [
    {
     "name": "stdout",
     "output_type": "stream",
     "text": [
      "The array is: \n",
      " [[5 8 5 0]\n",
      " [0 1 7 6]\n",
      " [2 4 5 2]\n",
      " [4 2 4 7]]\n",
      "\n",
      "Sorting along axis = 0: \n",
      " [[0 1 4 0]\n",
      " [2 2 5 2]\n",
      " [4 4 5 6]\n",
      " [5 8 7 7]]\n",
      "\n",
      "Sorting along axis = 1: \n",
      " [[0 5 5 8]\n",
      " [0 1 6 7]\n",
      " [2 2 4 5]\n",
      " [2 4 4 7]]\n"
     ]
    }
   ],
   "source": [
    "np.random.seed(1)\n",
    "array1 = np.random.randint(0,9,16).reshape(4,-1)\n",
    "\n",
    "print(\"The array is: \\n\", array1)\n",
    "\n",
    "print(\"\\nSorting along axis = 0: \\n\", np.sort(array1, axis = 0))\n",
    "      \n",
    "print(\"\\nSorting along axis = 1: \\n\", np.sort(array1, axis = 1))"
   ]
  },
  {
   "cell_type": "markdown",
   "metadata": {},
   "source": [
    "Q16. Write the NumPy program to sort pairs of first name and last name\n",
    "return their indices (first by last name, then by first name).\n",
    "\n",
    "    first_names - ( Betsey, Shelley, Lanell, Genesis, Margery )\n",
    "    last_names - ( Battle, Brien, Plotner, Stahl, Woolum )\n",
    "    Expected Output-\n",
    "    [1 3 2 4 0]"
   ]
  },
  {
   "cell_type": "code",
   "execution_count": 141,
   "metadata": {},
   "outputs": [
    {
     "name": "stdout",
     "output_type": "stream",
     "text": [
      "[1 3 2 4 0]\n"
     ]
    }
   ],
   "source": [
    "import numpy as np\n",
    "first_names =    ('Margery', 'Betsey', 'Shelley', 'Lanell', 'Genesis')\n",
    "last_names = ('Woolum', 'Battle', 'Plotner', 'Brien', 'Stahl')\n",
    "out = np.lexsort((first_names, last_names))\n",
    "print(out)"
   ]
  },
  {
   "cell_type": "markdown",
   "metadata": {},
   "source": [
    "Q17. Write the NumPy program to get the values and indices of the\n",
    "elements that are bigger than 10 in the given array?\n",
    "\n",
    "    Original array-\n",
    "    [[ 0 10 20]\n",
    "    [20 30 40]]\n",
    "    Values bigger than 10 = [20 20 30 40]\n",
    "    Their indices are (array([0, 1, 1, 1]), array([2, 0, 1, 2]))"
   ]
  },
  {
   "cell_type": "code",
   "execution_count": 148,
   "metadata": {},
   "outputs": [
    {
     "name": "stdout",
     "output_type": "stream",
     "text": [
      "Values bigger than 10: \n",
      " [20 20 30 40]\n",
      "\n",
      "Their indices are: \n",
      " (array([0, 1, 1, 1], dtype=int64), array([2, 0, 1, 2], dtype=int64))\n"
     ]
    }
   ],
   "source": [
    "array1 = np.array([[0, 10, 20], [20, 30, 40]])\n",
    "\n",
    "print(\"Values bigger than 10: \\n\", array1[array1>10])\n",
    "print(\"\\nTheir indices are: \\n\", np.where(array1 > 10))"
   ]
  },
  {
   "cell_type": "markdown",
   "metadata": {},
   "source": [
    "Q18. Write the NumPy program to find the memory size of a NumPy\n",
    "array?\n",
    "\n",
    "    Expected Output128 bytes\n"
   ]
  },
  {
   "cell_type": "code",
   "execution_count": 160,
   "metadata": {},
   "outputs": [
    {
     "name": "stdout",
     "output_type": "stream",
     "text": [
      "64 bytes\n"
     ]
    }
   ],
   "source": [
    "np.random.seed(1)\n",
    "array1 = np.random.randint(100,900,16).reshape(4,-1)\n",
    "print(array1.itemsize * array1.size, \"bytes\")"
   ]
  },
  {
   "cell_type": "markdown",
   "metadata": {},
   "source": [
    "## Great Job!"
   ]
  }
 ],
 "metadata": {
  "kernelspec": {
   "display_name": "Python 3",
   "language": "python",
   "name": "python3"
  },
  "language_info": {
   "codemirror_mode": {
    "name": "ipython",
    "version": 3
   },
   "file_extension": ".py",
   "mimetype": "text/x-python",
   "name": "python",
   "nbconvert_exporter": "python",
   "pygments_lexer": "ipython3",
   "version": "3.6.8"
  }
 },
 "nbformat": 4,
 "nbformat_minor": 2
}
